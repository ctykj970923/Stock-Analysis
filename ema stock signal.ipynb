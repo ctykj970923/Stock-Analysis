{
 "cells": [
  {
   "cell_type": "code",
   "execution_count": 3,
   "metadata": {},
   "outputs": [],
   "source": [
    "import pandas_datareader as pdr\n",
    "import numpy as np"
   ]
  },
  {
   "cell_type": "code",
   "execution_count": 4,
   "metadata": {},
   "outputs": [],
   "source": [
    "import datetime"
   ]
  },
  {
   "cell_type": "code",
   "execution_count": 5,
   "metadata": {},
   "outputs": [],
   "source": [
    "date_time = datetime.datetime.now()\n",
    "date = date_time.date()\n",
    "global start\n",
    "start = datetime.datetime(date.year-1, date.month, date.day)\n",
    "global end\n",
    "end = datetime.datetime(date.year, date.month, date.day)"
   ]
  },
  {
   "cell_type": "code",
   "execution_count": 6,
   "metadata": {},
   "outputs": [
    {
     "name": "stdout",
     "output_type": "stream",
     "text": [
      "2021-01-23 00:00:00\n"
     ]
    }
   ],
   "source": [
    "print(start)"
   ]
  },
  {
   "cell_type": "code",
   "execution_count": 7,
   "metadata": {},
   "outputs": [],
   "source": [
    "def ema_signal(stockNum):\n",
    "    ticker = stockNum\n",
    "    ticker = ticker.strip('\\n')\n",
    "    data = pdr.get_data_yahoo(ticker, start, end)\n",
    "    data[\"EXPMA10\"] = data['Close'].ewm(span=10,adjust=False).mean()\n",
    "    data['EXPMA10'] = np.round(data[\"EXPMA10\"], decimals=3)\n",
    "    data[\"EXPMA50\"] = data['Close'].ewm(span=50,adjust=False).mean()\n",
    "    data['EXPMA50'] = np.round(data[\"EXPMA50\"], decimals=3)\n",
    "    print(data)\n",
    "    ema50=data.iloc[-1].at['EXPMA50']\n",
    "    ema10=data.iloc[-1].at['EXPMA10']\n",
    "    data[[\"EXPMA10\",\"EXPMA50\"]].plot(title='graph',xlabel='Month',ylabel='Price',ylim=(1,1000),figsize=(10,20))\n",
    "    if ema10 < ema50:\n",
    "        if ema10 >= ema50*98.5/100:\n",
    "            return True\n",
    "        else:\n",
    "            return False\n",
    "    else:\n",
    "        return False"
   ]
  },
  {
   "cell_type": "code",
   "execution_count": 8,
   "metadata": {},
   "outputs": [
    {
     "name": "stdout",
     "output_type": "stream",
     "text": [
      "                 High        Low       Open      Close      Volume  Adj Close  \\\n",
      "Date                                                                            \n",
      "2021-01-25  56.700001  54.200001  56.500000  54.900002  13630331.0  52.666008   \n",
      "2021-01-26  55.900002  54.700001  54.900002  55.250000   8115961.0  53.001766   \n",
      "2021-01-27  56.549999  55.799999  55.900002  56.099998   6786243.0  53.817177   \n",
      "2021-01-28  55.650002  54.599998  55.200001  55.150002   6894970.0  52.905834   \n",
      "2021-01-29  55.099998  53.299999  55.000000  53.700001  11305939.0  51.514843   \n",
      "...               ...        ...        ...        ...         ...        ...   \n",
      "2022-01-17  55.799999  54.849998  55.000000  55.450001   3918001.0  55.450001   \n",
      "2022-01-18  55.750000  55.150002  55.450001  55.700001   3607269.0  55.700001   \n",
      "2022-01-19  56.000000  55.099998  56.000000  55.349998   3869869.0  55.349998   \n",
      "2022-01-20  56.400002  55.150002  56.400002  55.400002   4200586.0  55.400002   \n",
      "2022-01-21  56.000000  55.150002  55.700001  55.750000   4263217.0  55.750000   \n",
      "\n",
      "            EXPMA10  EXPMA50  \n",
      "Date                          \n",
      "2021-01-25   54.900   54.900  \n",
      "2021-01-26   54.964   54.914  \n",
      "2021-01-27   55.170   54.960  \n",
      "2021-01-28   55.167   54.968  \n",
      "2021-01-29   54.900   54.918  \n",
      "...             ...      ...  \n",
      "2022-01-17   53.832   52.094  \n",
      "2022-01-18   54.172   52.236  \n",
      "2022-01-19   54.386   52.358  \n",
      "2022-01-20   54.570   52.477  \n",
      "2022-01-21   54.785   52.606  \n",
      "\n",
      "[247 rows x 8 columns]\n"
     ]
    },
    {
     "data": {
      "text/plain": [
       "False"
      ]
     },
     "execution_count": 8,
     "metadata": {},
     "output_type": "execute_result"
    },
    {
     "data": {
      "image/png": "[encoded data removed]",
      "text/plain": [
       "<Figure size 720x1440 with 1 Axes>"
      ]
     },
     "metadata": {
      "needs_background": "light"
     },
     "output_type": "display_data"
    }
   ],
   "source": [
    "ema_signal(\"0001.HK\")"
   ]
  },
  {
   "cell_type": "code",
   "execution_count": null,
   "metadata": {},
   "outputs": [],
   "source": [
    "##conduct stock number to xxxx.HK\n",
    "newList=[]\n",
    "with open ('save.txt','r') as f:\n",
    "    f_contents = f.readlines()\n",
    "    newList = f_contents\n",
    "file = open(\"xxxx.HK.txt\",\"w\")\n",
    "for ticker in newList:\n",
    "    ticker = ticker.strip('\\n')\n",
    "    if(len(ticker)==1):\n",
    "        ticker_new = '0'+'0'+'0'+ ticker + '.HK' + '\\n'\n",
    "    elif(len(ticker)==2):\n",
    "        ticker_new = '0'+'0'+ ticker + '.HK' + '\\n'\n",
    "    elif(len(ticker)==3):\n",
    "        ticker_new = '0'+ ticker + '.HK' + '\\n'\n",
    "    else:\n",
    "        if(ticker=='9999'):\n",
    "            ticker_new = ticker + '.HK'\n",
    "        else:\n",
    "            ticker_new = ticker + '.HK' + '\\n'\n",
    "    file.write(ticker_new)\n",
    "file.close()"
   ]
  },
  {
   "cell_type": "code",
   "execution_count": 5,
   "metadata": {},
   "outputs": [
    {
     "name": "stdout",
     "output_type": "stream",
     "text": [
      "0002.HK\n",
      "\n",
      "0003.HK\n",
      "\n",
      "0004.HK\n",
      "\n",
      "0006.HK\n",
      "\n",
      "0008.HK\n",
      "\n",
      "0013.HK\n",
      "\n",
      "0019.HK\n",
      "\n",
      "0034.HK\n",
      "\n",
      "0066.HK\n",
      "\n",
      "0151.HK\n",
      "\n",
      "0152.HK\n",
      "\n",
      "0247.HK\n",
      "\n",
      "0291.HK\n",
      "\n",
      "0303.HK\n",
      "\n",
      "0604.HK\n",
      "\n",
      "0688.HK\n",
      "\n",
      "0788.HK\n",
      "\n",
      "0817.HK\n",
      "\n",
      "0939.HK\n",
      "\n",
      "0941.HK\n",
      "\n",
      "0945.HK\n",
      "\n",
      "0966.HK\n",
      "\n",
      "0973.HK\n",
      "\n",
      "0992.HK\n",
      "\n",
      "0998.HK\n",
      "\n",
      "1176.HK\n",
      "\n",
      "1193.HK\n",
      "\n",
      "1268.HK\n",
      "\n",
      "1271.HK\n",
      "\n",
      "1299.HK\n",
      "\n",
      "1336.HK\n",
      "\n",
      "1339.HK\n",
      "\n",
      "1359.HK\n",
      "\n",
      "1387.HK\n",
      "\n",
      "1787.HK\n",
      "\n",
      "1896.HK\n",
      "\n",
      "1966.HK\n",
      "\n",
      "2007.HK\n",
      "\n",
      "2013.HK\n",
      "\n",
      "2313.HK\n",
      "\n",
      "2359.HK\n",
      "\n",
      "2601.HK\n",
      "\n",
      "2607.HK\n",
      "\n",
      "2638.HK\n",
      "\n",
      "2678.HK\n",
      "\n",
      "2688.HK\n",
      "\n",
      "2772.HK\n",
      "\n",
      "2778.HK\n",
      "\n",
      "2888.HK\n",
      "\n",
      "2899.HK\n",
      "\n",
      "3188.HK\n",
      "\n",
      "3331.HK\n",
      "\n",
      "3339.HK\n",
      "\n",
      "3633.HK\n",
      "\n",
      "3690.HK\n",
      "\n",
      "3800.HK\n",
      "\n",
      "3918.HK\n",
      "\n",
      "3988.HK\n",
      "\n",
      "6818.HK\n",
      "\n",
      "6823.HK\n",
      "\n",
      "9868.HK\n",
      "\n",
      "9968.HK\n",
      "\n",
      "9992.HK\n",
      "\n"
     ]
    }
   ],
   "source": [
    "##stock have expma signal\n",
    "newList=[]\n",
    "with open ('xxxx.HK.txt','r') as f:\n",
    "    f_contents = f.readlines()\n",
    "    newList = f_contents\n",
    "file = open(\"ema signal.txt\",\"w\")\n",
    "for stockNum in newList:\n",
    "    if(ema_signal(stockNum))== True:\n",
    "        print(stockNum)\n",
    "        file.write(stockNum)\n",
    "file.close()"
   ]
  }
 ],
 "metadata": {
  "kernelspec": {
   "display_name": "Python 3",
   "language": "python",
   "name": "python3"
  },
  "language_info": {
   "codemirror_mode": {
    "name": "ipython",
    "version": 3
   },
   "file_extension": ".py",
   "mimetype": "text/x-python",
   "name": "python",
   "nbconvert_exporter": "python",
   "pygments_lexer": "ipython3",
   "version": "3.8.5"
  }
 },
 "nbformat": 4,
 "nbformat_minor": 4
}
